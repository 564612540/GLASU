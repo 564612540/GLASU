{
 "cells": [
  {
   "cell_type": "code",
   "execution_count": 42,
   "id": "0ea97ad3",
   "metadata": {},
   "outputs": [],
   "source": [
    "from autodp.mechanism_zoo import ExactGaussianMechanism\n",
    "from autodp.transformer_zoo import Composition, ComposeGaussian\n",
    "from autodp.transformer_zoo import AmplificationBySampling"
   ]
  },
  {
   "cell_type": "code",
   "execution_count": 49,
   "id": "bb5e99d8",
   "metadata": {},
   "outputs": [],
   "source": [
    "sigma1 = 1.3*1.5\n",
    "gm1 = ExactGaussianMechanism(sigma1,name='GM1')\n",
    "subsample = AmplificationBySampling(PoissonSampling=True)\n",
    "# gm1.replace_one = True"
   ]
  },
  {
   "cell_type": "code",
   "execution_count": 53,
   "id": "1dd57d16",
   "metadata": {},
   "outputs": [],
   "source": [
    "\n",
    "compose = Composition()\n",
    "composed_mech = compose([subsample(gm1,250/50000)], [10000])"
   ]
  },
  {
   "cell_type": "code",
   "execution_count": 54,
   "id": "c8494b90",
   "metadata": {},
   "outputs": [],
   "source": [
    "delta2 = 1e-5\n",
    "eps2 = rdp_composed_mech.get_approxDP(delta2)\n",
    "eps1 = composed_mech.get_approxDP(delta2)"
   ]
  },
  {
   "cell_type": "code",
   "execution_count": 55,
   "id": "fe78b2a2",
   "metadata": {},
   "outputs": [
    {
     "data": {
      "text/plain": [
       "1.2374052247249825"
      ]
     },
     "execution_count": 55,
     "metadata": {},
     "output_type": "execute_result"
    }
   ],
   "source": [
    "eps1"
   ]
  },
  {
   "cell_type": "code",
   "execution_count": null,
   "id": "beae23a5",
   "metadata": {},
   "outputs": [],
   "source": []
  }
 ],
 "metadata": {
  "kernelspec": {
   "display_name": "Python 3 (ipykernel)",
   "language": "python",
   "name": "python3"
  },
  "language_info": {
   "codemirror_mode": {
    "name": "ipython",
    "version": 3
   },
   "file_extension": ".py",
   "mimetype": "text/x-python",
   "name": "python",
   "nbconvert_exporter": "python",
   "pygments_lexer": "ipython3",
   "version": "3.10.4"
  }
 },
 "nbformat": 4,
 "nbformat_minor": 5
}
